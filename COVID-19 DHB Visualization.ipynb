{
 "cells": [
  {
   "cell_type": "markdown",
   "metadata": {},
   "source": [
    "## Import statements"
   ]
  },
  {
   "cell_type": "code",
   "execution_count": null,
   "metadata": {},
   "outputs": [],
   "source": [
    "import json\n",
    "import wget\n",
    "import branca\n",
    "import folium\n",
    "import requests\n",
    "import pandas as pd\n",
    "from folium import plugins\n",
    "from datetime import datetime\n",
    "from bs4 import BeautifulSoup"
   ]
  },
  {
   "cell_type": "markdown",
   "metadata": {},
   "source": [
    "## Scrape the data"
   ]
  },
  {
   "cell_type": "code",
   "execution_count": null,
   "metadata": {},
   "outputs": [],
   "source": [
    "BASE_URL = 'https://www.health.govt.nz/'\n",
    "TODAY = datetime.today().strftime('%Y-%m-%d')\n",
    "\n",
    "CURRENT_CASE_PAGE = BASE_URL + 'our-work/diseases-and-conditions/covid-19-novel-coronavirus/covid-19-current-situation/covid-19-current-cases'\n",
    "\n",
    "r = requests.get(CURRENT_CASE_PAGE)\n",
    "soup = BeautifulSoup(r.text, 'html.parser')\n",
    "tables = soup.select('table.table-style-two')\n",
    "cases = tables[1].select('tr')[1:-1]\n",
    "\n",
    "f = open(f'data/{TODAY}.csv', 'w')\n",
    "f.write('dhb,cases\\n')\n",
    "for case in cases:\n",
    "    data = case.select('td')\n",
    "    f.write(f'{data[0].get_text()},{data[1].get_text()}\\n')\n",
    "f.close()\n",
    "\n",
    "CASE_DETAIL_PAGE = BASE_URL + 'our-work/diseases-and-conditions/covid-19-novel-coronavirus/covid-19-current-situation/covid-19-current-cases/covid-19-current-cases-details'\n",
    "\n",
    "r = requests.get(CASE_DETAIL_PAGE)\n",
    "soup = BeautifulSoup(r.text, 'html.parser')\n",
    "excel_download_link = soup.select_one('a[href*=\".xlsx\"]')['href']\n",
    "wget.download(BASE_URL + excel_download_link, f'data/case_details/{TODAY}.xlsx')"
   ]
  },
  {
   "cell_type": "markdown",
   "metadata": {},
   "source": [
    "## Loading the data"
   ]
  },
  {
   "cell_type": "code",
   "execution_count": null,
   "metadata": {},
   "outputs": [],
   "source": [
    "dhb_geo = json.load(open('dhb.geojson'))\n",
    "df = pd.read_csv(f'data/{TODAY}.csv')\n",
    "case_series = df.set_index('dhb')['cases']\n",
    "\n",
    "# combine the data\n",
    "for feature in dhb_geo['features']:\n",
    "    feature['properties']['cases'] = int(case_series[feature['properties']['DHB2015_Na']])"
   ]
  },
  {
   "cell_type": "markdown",
   "metadata": {},
   "source": [
    "## Initialize the map"
   ]
  },
  {
   "cell_type": "code",
   "execution_count": null,
   "metadata": {
    "scrolled": true
   },
   "outputs": [],
   "source": [
    "m = folium.Map(\n",
    "    location=['-41.280710', '175.070684'],\n",
    "    tiles='CartoDB positron',\n",
    "    zoom_start=5,\n",
    "    zoom_control=False,\n",
    ")\n",
    "\n",
    "# Colorize the region using a color scale\n",
    "colorscale = branca.colormap.linear.Reds_09.scale(0, 100)\n",
    "colorscale.caption=\"Confirmed COVID-19 cases in NZ by District Health Board\"\n",
    "colorscale.add_to(m)\n",
    "\n",
    "def style_function(feature):\n",
    "    case = case_series.get(feature['properties']['DHB2015_Na'])\n",
    "    return {\n",
    "        'fillOpacity': 0.5,\n",
    "        'fillColor': colorscale(case),\n",
    "        'weight': 0.5,\n",
    "        'color': 'black',\n",
    "    }\n",
    "\n",
    "# Add tooltip on hover\n",
    "tooltip = folium.features.GeoJsonTooltip(\n",
    "    fields=[\"DHB2015_Na\", \"cases\"],\n",
    "    aliases=[\"DHB: \", \"# of cases: \"],\n",
    "    localize=True,\n",
    "    sticky=False,\n",
    "    labels=True,\n",
    "    style=\"\"\"\n",
    "        background-color: #F0EFEF;\n",
    "        border: 2px solid black;\n",
    "        border-radius: 3px;\n",
    "        box-shadow: 3px;\n",
    "    \"\"\",\n",
    ")\n",
    "\n",
    "# Add DHB geojson to map\n",
    "folium.GeoJson(\n",
    "    dhb_geo,\n",
    "    name='geojson',\n",
    "    style_function=style_function,\n",
    "    tooltip=tooltip,\n",
    ").add_to(m)\n",
    "\n",
    "plugins.Fullscreen(\n",
    "    position='topright',\n",
    "    title='Expand me',\n",
    "    title_cancel='Exit me',\n",
    "    force_separate_button=True,\n",
    ").add_to(m)\n",
    "\n",
    "m.save('index.html')\n",
    "m"
   ]
  },
  {
   "cell_type": "code",
   "execution_count": null,
   "metadata": {},
   "outputs": [],
   "source": []
  }
 ],
 "metadata": {
  "kernelspec": {
   "display_name": "Python 3",
   "language": "python",
   "name": "python3"
  },
  "language_info": {
   "codemirror_mode": {
    "name": "ipython",
    "version": 3
   },
   "file_extension": ".py",
   "mimetype": "text/x-python",
   "name": "python",
   "nbconvert_exporter": "python",
   "pygments_lexer": "ipython3",
   "version": "3.7.3"
  }
 },
 "nbformat": 4,
 "nbformat_minor": 4
}
